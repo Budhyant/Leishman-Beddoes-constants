{
 "cells": [
  {
   "cell_type": "markdown",
   "metadata": {},
   "source": [
    "# Determining constants for the Leishman-Beddoes dynamic stall model"
   ]
  },
  {
   "cell_type": "code",
   "execution_count": 1,
   "metadata": {
    "collapsed": false
   },
   "outputs": [],
   "source": [
    "%matplotlib inline\n",
    "import matplotlib.pyplot as plt\n",
    "import numpy as np\n",
    "from numpy import sin, cos, exp, pi, log, sqrt\n",
    "import pandas as pd\n",
    "import seaborn"
   ]
  },
  {
   "cell_type": "code",
   "execution_count": 2,
   "metadata": {
    "collapsed": false
   },
   "outputs": [],
   "source": [
    "# Function for loading data\n",
    "def load(foil=\"NACA0021\"):\n",
    "    alpha = []\n",
    "    cl = []\n",
    "    cd = []\n",
    "    with open(\"data/{}.dat\".format(foil)) as f:\n",
    "        for line in f.readlines():\n",
    "            if line.strip()[:2] == \"//\":\n",
    "                pass\n",
    "            else:\n",
    "                line = line.replace(\"(\", \"\")\n",
    "                line = line.replace(\")\", \"\")\n",
    "                line = line.split()\n",
    "                alpha.append(float(line[0]))\n",
    "                cl.append(float(line[1]))\n",
    "                cd.append(float(line[2]))\n",
    "    df = pd.DataFrame()\n",
    "    df[\"alpha_deg\"] = np.asarray(alpha)\n",
    "    df[\"alpha_rad\"] = df.alpha_deg/180.0*np.pi\n",
    "    df[\"cl\"] = np.asarray(cl)\n",
    "    df[\"cd\"] = np.asarray(cd)\n",
    "    df[\"cn\"] = df.cl*np.cos(df.alpha_rad) - df.cd*np.sin(df.alpha_rad)\n",
    "    df[\"ct\"] = df.cl*np.sin(df.alpha_rad) - df.cd*np.cos(df.alpha_rad)\n",
    "    return df"
   ]
  },
  {
   "cell_type": "markdown",
   "metadata": {},
   "source": [
    "Next we want to find the constants $S_1$ and $S_2$ that relate the Kirchhoff separation point to the normal force coefficient.\n",
    "\n",
    "$$\n",
    "C_N = C_{N_\\alpha} \\left( \\frac{1 + \\sqrt{f}}{2} \\right)^2 \\alpha\n",
    "$$\n",
    "\n",
    "Rearranging we have\n",
    "\n",
    "$$\n",
    "f = \\left(2\\sqrt{\\frac{C_N}{\\alpha C_{N_\\alpha}}} - 1\\right)^2\n",
    "$$\n",
    "\n",
    "The separation point is then\n",
    "\n",
    "$$\n",
    "f = 1 - 0.3 \\exp \\left[ (\\alpha - \\alpha_1)/S_1 \\right]\n",
    "$$\n",
    "\n",
    "for $\\alpha \\leq \\alpha_1$, and for $\\alpha > \\alpha1$\n",
    "\n",
    "$$\n",
    "f = 0.04 - 0.66 \\exp \\left[ (\\alpha_1 - \\alpha)/S_2 \\right].\n",
    "$$\n",
    "\n",
    "We will use formulas for an exponential curve fit of the form\n",
    "\n",
    "$$\n",
    "y = A \\mathrm{e}^{Bx},\n",
    "$$\n",
    "\n",
    "which gives "
   ]
  },
  {
   "cell_type": "code",
   "execution_count": 3,
   "metadata": {
    "collapsed": true
   },
   "outputs": [],
   "source": [
    "\"\"\"\n",
    "Least squares fitting for finding s1 and s2\n",
    "Kept as close to the C++ code as possible to return back\n",
    "\n",
    "Constants from f equation\n",
    "    f = A - B*exp ...\n",
    "    f = C + D exp ...\n",
    "\"\"\"\n",
    "\n",
    "def calc_s1_s2(df, alpha1, cn_alpha, A=1, B=0.3, C=0.04, D=0.66):\n",
    "    sumY = 0.0\n",
    "    sumXYLnY = 0.0\n",
    "    sumXY = 0.0\n",
    "    sumYLnY = 0.0\n",
    "    sumX2Y = 0.0\n",
    "    alphaLowerLimit = 0.0\n",
    "    alphaUpperLimit = alpha1\n",
    "\n",
    "    #Translational stuff\n",
    "    alphaDegList = df.alpha_deg.values\n",
    "    clList = df.cl.values\n",
    "    cdList = df.cd.values\n",
    "    CNAlpha = cn_alpha\n",
    "    mag = abs\n",
    "    \n",
    "    # Calculate S1\n",
    "    for i in range(len(alphaDegList)):\n",
    "        alphaRad = alphaDegList[i]/180.0*pi\n",
    "        cn = clList[i]*cos(alphaRad) - cdList[i]*sin(alphaRad)\n",
    "        if (alphaRad > alphaLowerLimit and alphaRad < alphaUpperLimit):\n",
    "            f = pow((sqrt(abs(cn)/CNAlpha/abs(alphaRad))*2.0 - 1.0), 2)\n",
    "            x = abs(alphaRad) - alpha1\n",
    "            y = (f - A)/(-B)\n",
    "            if (f > 0 and f < 1 and y > 0):\n",
    "                sumY += y\n",
    "                sumXYLnY += x*y*log(y)\n",
    "                sumXY += x*y\n",
    "                sumYLnY += y*log(y)\n",
    "                sumX2Y += x*x*y\n",
    "\n",
    "    b = (sumY*sumXYLnY - sumXY*sumYLnY)/(sumY*sumX2Y - sumXY*sumXY)\n",
    "    S1 = 1.0/b\n",
    "\n",
    "    # Calculate S2\n",
    "    sumY = 0.0\n",
    "    sumXYLnY = 0.0\n",
    "    sumXY = 0.0\n",
    "    sumYLnY = 0.0\n",
    "    sumX2Y = 0.0\n",
    "    alphaLowerLimit = alpha1 - 1e-3\n",
    "    alphaUpperLimit = pi/6.0\n",
    "    for i in range(len(alphaDegList)):\n",
    "        alphaRad = alphaDegList[i]/180.0*pi\n",
    "        cn = clList[i]*cos(alphaRad) - cdList[i]*sin(alphaRad)\n",
    "        if (alphaRad > alphaLowerLimit and alphaRad < alphaUpperLimit):\n",
    "            f = pow((sqrt(mag(cn)/CNAlpha/mag(alphaRad))*2.0 - 1.0), 2)\n",
    "            x = alpha1 - abs(alphaRad);\n",
    "            y = (f - C)/D;\n",
    "            if (f > 0 and f < 1 and y > 0):\n",
    "                sumY += y\n",
    "                sumXYLnY += x*y*log(y)\n",
    "                sumXY += x*y\n",
    "                sumYLnY += y*log(y)\n",
    "                sumX2Y += x*x*y\n",
    "    b = (sumY*sumXYLnY - sumXY*sumYLnY)/(sumY*sumX2Y - sumXY*sumXY)\n",
    "    S2 = 1.0/b\n",
    "    \n",
    "    return S1, S2"
   ]
  },
  {
   "cell_type": "code",
   "execution_count": 61,
   "metadata": {
    "collapsed": false
   },
   "outputs": [
    {
     "name": "stdout",
     "output_type": "stream",
     "text": [
      "alpha_ss = 17.0\n",
      "cn_alpha = 6.043\n",
      "S1 = 0.023\n",
      "S2 = 0.028\n"
     ]
    },
    {
     "data": {
      "image/png": "[encoded data removed]",
      "text/plain": [
       "<matplotlib.figure.Figure at 0xd277320>"
      ]
     },
     "metadata": {},
     "output_type": "display_data"
    }
   ],
   "source": [
    "df = load(\"NACA0012\")\n",
    "frac_cn_alpha = 0.7 # Fraction of static stall angle to look for cn slope\n",
    "frac_alpha1 = 0.9 # Fraction of static stall angle to define alpha1\n",
    "\n",
    "# Find static stall angle\n",
    "d_cd_d_alpha = np.diff(df.cd)/np.diff(df.alpha_deg)\n",
    "n = np.where(d_cd_d_alpha > 0.02)[0]\n",
    "alpha_ss = df.alpha_deg[n]\n",
    "alpha_ss = alpha_ss[alpha_ss > 0].iloc[0]\n",
    "print(\"alpha_ss = {:.1f}\".format(alpha_ss))\n",
    "\n",
    "# Calculate normal force slope\n",
    "alpha1 = np.floor(alpha_ss*frac_cn_alpha)\n",
    "alpha0 = np.floor(alpha_ss*0.0)\n",
    "dalpha = alpha1 - alpha0\n",
    "cn_alpha = (df.cn[df.alpha_deg==alpha1].iloc[0] \\\n",
    "            - df.cn[df.alpha_deg==alpha0].iloc[0])/(dalpha/180.0*np.pi)\n",
    "print(\"cn_alpha = {:.3f}\".format(cn_alpha))\n",
    "\n",
    "# Find critical normal force coefficient\n",
    "A, B, C, D = 1.0, 0.3, 0.04, 0.66 # Original model\n",
    "# A, B, C, D = 1.0, 0.4, 0.02, 0.58 # 3G model\n",
    "fcrit = A - B\n",
    "alpha1 = (np.floor(alpha_ss*frac_alpha1))/180.0*np.pi\n",
    "cn1 = cn_alpha*alpha1*((1 + np.sqrt(fcrit))/2.0)**2\n",
    "\n",
    "# Put in some values for s1 and s2 (from turbinesFoam)\n",
    "s1 = 0.109504058813\n",
    "s2 = 0.0355536753234\n",
    "s1, s2 = calc_s1_s2(df, alpha1, cn_alpha, A, B, C, D)\n",
    "print(\"S1 = {:.3f}\".format(s1))\n",
    "print(\"S2 = {:.3f}\".format(s2))\n",
    "\n",
    "ind = np.logical_and(df.alpha_deg >=0, df.alpha_deg <= 30)\n",
    "alpha = df.alpha_rad[ind]\n",
    "alpha_low = alpha[alpha <= alpha1]\n",
    "alpha_high = alpha[alpha >= alpha1]\n",
    "f_low = 1.0 - 0.3*np.exp((alpha_low - alpha1)/s1)\n",
    "f_high = 0.04 + 0.66*np.exp((alpha1 - alpha_high)/s2)\n",
    "\n",
    "# Reconstruct normal force from f\n",
    "cn_low = cn_alpha*alpha_low*((1 + np.sqrt(f_low))/2)**2\n",
    "cn_high = cn_alpha*alpha_high*((1 + np.sqrt(f_high))/2)**2\n",
    "cn = np.hstack((cn_low, cn_high[1:]))\n",
    "\n",
    "plt.plot(alpha_low, f_low)\n",
    "plt.plot(alpha_high, f_high)\n",
    "plt.plot(alpha, df.cn[ind], \"-s\", label=r\"Input $C_N$\")\n",
    "plt.plot(alpha, cn, \"-o\", label=r\"Reconstructed $C_N$\")\n",
    "plt.xlabel(r\"$\\alpha$ (rad)\")\n",
    "plt.ylabel(\"$f$\")\n",
    "plt.legend(loc=\"best\")\n",
    "plt.savefig(\"figures/f.pdf\")\n",
    "plt.show()"
   ]
  },
  {
   "cell_type": "code",
   "execution_count": null,
   "metadata": {
    "collapsed": true
   },
   "outputs": [],
   "source": []
  }
 ],
 "metadata": {
  "kernelspec": {
   "display_name": "Python 3",
   "language": "python",
   "name": "python3"
  },
  "language_info": {
   "codemirror_mode": {
    "name": "ipython",
    "version": 3
   },
   "file_extension": ".py",
   "mimetype": "text/x-python",
   "name": "python",
   "nbconvert_exporter": "python",
   "pygments_lexer": "ipython3",
   "version": "3.4.3"
  }
 },
 "nbformat": 4,
 "nbformat_minor": 0
}
