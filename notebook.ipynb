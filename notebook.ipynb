{
 "cells": [
  {
   "cell_type": "markdown",
   "metadata": {},
   "source": [
    "# Determining constants for the Leishman-Beddoes dynamic stall model"
   ]
  },
  {
   "cell_type": "code",
   "execution_count": 72,
   "metadata": {
    "collapsed": true
   },
   "outputs": [],
   "source": [
    "%matplotlib inline\n",
    "import matplotlib.pyplot as plt\n",
    "import numpy as np\n",
    "import pandas as pd\n",
    "import seaborn"
   ]
  },
  {
   "cell_type": "code",
   "execution_count": 42,
   "metadata": {
    "collapsed": false
   },
   "outputs": [],
   "source": [
    "# Function for loading data\n",
    "def load():\n",
    "    alpha = []\n",
    "    cl = []\n",
    "    cd = []\n",
    "    with open(\"data/NACA0021.dat\") as f:\n",
    "        for line in f.readlines():\n",
    "            if line.strip()[:2] == \"//\":\n",
    "                pass\n",
    "            else:\n",
    "                line = line.replace(\"(\", \"\")\n",
    "                line = line.replace(\")\", \"\")\n",
    "                line = line.split()\n",
    "                alpha.append(float(line[0]))\n",
    "                cl.append(float(line[1]))\n",
    "                cd.append(float(line[2]))\n",
    "    df = pd.DataFrame()\n",
    "    df[\"alpha_deg\"] = np.asarray(alpha)\n",
    "    df[\"alpha_rad\"] = df.alpha_deg/180.0*np.pi\n",
    "    df[\"cl\"] = np.asarray(cl)\n",
    "    df[\"cd\"] = np.asarray(cd)\n",
    "    df[\"cn\"] = df.cl*np.cos(df.alpha_rad) - df.cd*np.sin(df.alpha_rad)\n",
    "    df[\"ct\"] = df.cl*np.sin(df.alpha_rad) - df.cd*np.cos(df.alpha_rad)\n",
    "    return df"
   ]
  },
  {
   "cell_type": "code",
   "execution_count": 78,
   "metadata": {
    "collapsed": false
   },
   "outputs": [
    {
     "data": {
      "image/png": "[encoded data removed]",
      "text/plain": [
       "<matplotlib.figure.Figure at 0xb90c0b8>"
      ]
     },
     "metadata": {},
     "output_type": "display_data"
    }
   ],
   "source": [
    "df = load()\n",
    "\n",
    "# Calculate normal force slope\n",
    "cn_alpha = (df.cn[df.alpha_deg==2.0].iloc[0] - df.cn[df.alpha_deg==0.0].iloc[0])/(2.0/180.0*np.pi)\n",
    "\n",
    "# Find static stall angle\n",
    "d_cd_d_alpha = np.diff(df.cd)/np.diff(df.alpha_deg)\n",
    "n = np.where(d_cd_d_alpha > 0.02)[0]\n",
    "alpha_ss = df.alpha_deg[n]\n",
    "alpha_ss = alpha_ss[alpha_ss > 0].iloc[0]\n",
    "\n",
    "# Find critical normal force coefficient\n",
    "fcrit = 0.7\n",
    "alpha1 = alpha_ss/180.0*np.pi\n",
    "cn1 = cn_alpha*alpha1*((1 + np.sqrt(fcrit))/2.0)**2\n",
    "\n",
    "# Put in some values for s1 and s2 (from turbinesFoam)\n",
    "s1 = 0.109504058813\n",
    "s2 = 0.0355536753234\n",
    "\n",
    "ind = np.logical_and(df.alpha_deg >=0, df.alpha_deg <= 30)\n",
    "alpha = df.alpha_rad[ind]\n",
    "alpha_low = alpha[alpha <= alpha1]\n",
    "alpha_high = alpha[alpha >= alpha1]\n",
    "f_low = 1.0 - 0.3*np.exp((alpha_low - alpha1)/s1)\n",
    "f_high = 0.04 + 0.66*np.exp((alpha1 - alpha_high)/s2)\n",
    "\n",
    "plt.plot(alpha_low, f_low)\n",
    "plt.plot(alpha_high, f_high)\n",
    "plt.plot(alpha, df.ct[ind], \"-o\", label=r\"$C_T$\")\n",
    "plt.xlabel(r\"$\\alpha$ (rad)\")\n",
    "plt.ylabel(\"$f$\")\n",
    "plt.legend(loc=\"best\")\n",
    "plt.savefig(\"figures/f.pdf\")\n",
    "plt.show()"
   ]
  }
 ],
 "metadata": {
  "kernelspec": {
   "display_name": "Python 3",
   "language": "python",
   "name": "python3"
  },
  "language_info": {
   "codemirror_mode": {
    "name": "ipython",
    "version": 3
   },
   "file_extension": ".py",
   "mimetype": "text/x-python",
   "name": "python",
   "nbconvert_exporter": "python",
   "pygments_lexer": "ipython3",
   "version": "3.4.3"
  }
 },
 "nbformat": 4,
 "nbformat_minor": 0
}
